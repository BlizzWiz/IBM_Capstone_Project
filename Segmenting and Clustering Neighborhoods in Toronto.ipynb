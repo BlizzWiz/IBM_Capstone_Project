# %% markdown
# # Segmenting and Clustering Neighborhoods in Toronto
# %% markdown
# In this assignment, I will explore, segment, and cluster the neighborhoods in the city of Toronto. For the Toronto neighborhood data, a Wikipedia page exists that has all the information we need to explore and cluster the neighborhoods in Toronto.
# %% markdown
# ## PART I Data Preparation
#
# ### 1. Read html file into dataframe
# %% codecell
import numpy as np
import pandas as pd
pd.set_option('display.max_columns', None)
pd.set_option('display.max_rows', None)

import json

!conda install -c conda-forge geopy --yes
from geopy.geocoders import Nominatim

import requests
from pandas.io.json import json_normalize

import matplotlib.cm as cm
import matplotlib.colors as colors

from sklearn.cluster import KMeans

!conda install -c conda-forge folium=0.5.0 --yes
import folium

print('Libraries imported.')
# %% codecell
# Read wikipedia page and st
df = pd.read_html('https://en.wikipedia.org/wiki/List_of_postal_codes_of_Canada:_M',header=0)[0]
df.head()
# %% markdown
# ### 2. Drop all rows tagged 'Not assigned'
# %% codecell
# Clean df, delete rows with 'Not assigned'
df = df[~df.Borough.str.contains("Not assigned") == True]
# %% codecell
# Reset index for df
df = df.reset_index(drop=True)
df.head()
# %% markdown
# ### 3. Dataframe shape
# %% codecell
# Columns and rows of dataframe:
print('The dataframe has {} boroughs, {} neighborhoods and {} columns.'.format(
        len(df['Borough'].unique()),
        df.shape[0],
        df.shape[1]
    )
)
# %% markdown
# ### 4. Get geographical coordinates of the neighborhoods
# %% codecell
# Download geospatial data
coor = pd.read_csv('https://cocl.us/Geospatial_data')
coor.head()
# %% codecell
# Merge two dataframes using left join
dff = pd.merge(df, coor, how='left', on=['Postal Code'])
dff.head(12)
# %% markdown
# ## PART II Toronto Neighborhood Analysis
# %% markdown
# In this section I will use Toronto data only. The new dataframe is 'toronto', sorted by Borough.
# %% markdown
# ### 1. Obtain data from Toronto
# %% codecell
# Select Toronto from Borough
toronto = dff[dff['Borough'].str.contains('Toronto')].sort_values('Borough').reset_index(drop=True)
toronto
# %% markdown
# ### 2. Obtain geographical coordinates of Toronto
# %% codecell
address = 'Toronto, Ontario'

geolocator = Nominatim(user_agent="toronto_explorer")
location = geolocator.geocode(address)
latitude = location.latitude
longitude = location.longitude
print('The geograpical coordinate of Toronto are {}, {}.'.format(latitude, longitude))
# %% markdown
# ### 3. Define Foursquare Credentials and Version
# %% codecell
# @hidden_cell
CLIENT_ID = 'BMEF1QMBDZVE01JQQPCDMHT05IO3ANZFQSDIQ0HN1TLXHMGD' # your Foursquare ID
CLIENT_SECRET = 'NAJM10X3IRNNKGI5FUXY1TJDRDMUOINBTHA0L233RRQCU4IV' # your Foursquare Secret
VERSION = '20200617' # Foursquare API version

# %% markdown
# ### 4. Define function that extracts the category of the venue
# %% codecell
def get_category_type(row):
    try:
        categories_list = row['categories']
    except:
        categories_list = row['venue.categories']

    if len(categories_list) == 0:
        return None
    else:
        return categories_list[0]['name']
# %% markdown
# ### 5. Let's create a function to repeat the same process to all the neighborhoods in Toronto
# %% codecell
def getNearbyVenues(names, latitudes, longitudes, LIMIT = 100, radius=500):

    venues_list=[]
    for name, lat, lng in zip(names, latitudes, longitudes):
        print(name)

        # create the API request URL
        url = 'https://api.foursquare.com/v2/venues/explore?&client_id={}&client_secret={}&v={}&ll={},{}&radius={}&limit={}'.format(
            CLIENT_ID,
            CLIENT_SECRET,
            VERSION,
            lat,
            lng,
            radius,
            LIMIT)

        # make the GET request
        results = requests.get(url).json()["response"]['groups'][0]['items']

        # return only relevant information for each nearby venue
        venues_list.append([(
            name,
            lat,
            lng,
            v['venue']['name'],
            v['venue']['location']['lat'],
            v['venue']['location']['lng'],
            v['venue']['categories'][0]['name']) for v in results])

    nearby_venues = pd.DataFrame([item for venue_list in venues_list for item in venue_list])
    nearby_venues.columns = ['Neighborhood',
                  'Neighborhood Latitude',
                  'Neighborhood Longitude',
                  'Venue',
                  'Venue Latitude',
                  'Venue Longitude',
                  'Venue Category']

    return(nearby_venues)
# %% markdown
#  ### 6. Create a new dataframe called t_venues.
# %% codecell
t_venues = getNearbyVenues(names=toronto['Neighborhood'],
                                   latitudes=toronto['Latitude'],
                                   longitudes=toronto['Longitude']
                          )
# %% markdown
# ### 7. Check the size of Toronto Venus
# %% codecell
print(t_venues.shape)
t_venues.head()
# %% markdown
# ### 8. Let's check how many venues were returned for each neighborhood
# %% codecell
t_venues.groupby('Neighborhood').count()
# %% markdown
# ### 9. Let's find out how many unique categories can be curated from all the returned venues
# %% codecell
print('There are {} uniques categories.'.format(len(t_venues['Venue Category'].unique())))
# %% markdown
# ## Part III Analyze Each Neighborhood
# %% markdown
# ### 1. One hot encoding for Toronto dataframe
# %% codecell
# one hot encoding
t_onehot = pd.get_dummies(t_venues[['Venue Category']], prefix="", prefix_sep="")

# add neighborhood column back to dataframe
t_onehot['Neighborhood'] = t_venues['Neighborhood']

# move neighborhood column to the first column
cols = list(t_onehot)
cols.insert(0, cols.pop(cols.index('Neighborhood')))
cols

t_onehot = t_onehot.reindex(columns= cols)
t_onehot.head()
# %% markdown
# And let's examine the new dataframe size.
# %% codecell
t_onehot.shape
# %% markdown
# ### 2. Group rows by neighborhood and by taking the mean of the frequency of occurrence of each category
# %% codecell
t_grouped = t_onehot.groupby('Neighborhood').mean().reset_index()
t_grouped
# %% markdown
# And let's examine the new grouped dataframe size.
# %% codecell
t_grouped.shape
# %% markdown
# ### 3. The top 5 most common venues in each Neighborhood
# %% codecell
num_top_venues = 5

for hood in t_grouped['Neighborhood']:
    print("----"+hood+"----")
    temp = t_grouped[t_grouped['Neighborhood'] == hood].T.reset_index()
    temp.columns = ['venue','freq']
    temp = temp.iloc[1:]
    temp['freq'] = temp['freq'].astype(float)
    temp = temp.round({'freq': 2})
    print(temp.sort_values('freq', ascending=False).reset_index(drop=True).head(num_top_venues))
    print('\n')
# %% markdown
# Let us create a new dataframe for the result. First we define a function to sort the venues in descending order.
# %% codecell
def return_most_common_venues(row, num_top_venues):
    row_categories = row.iloc[1:]
    row_categories_sorted = row_categories.sort_values(ascending=False)

    return row_categories_sorted.index.values[0:num_top_venues]
# %% markdown
# Now let's create the new dataframe and display the top 10 venues for each neighborhood.
# %% codecell
num_top_venues = 10

indicators = ['st', 'nd', 'rd']

# create columns according to number of top venues
columns = ['Neighborhood']
for ind in np.arange(num_top_venues):
    try:
        columns.append('{}{} Most Common Venue'.format(ind+1, indicators[ind]))
    except:
        columns.append('{}th Most Common Venue'.format(ind+1))

# create a new dataframe
neighborhoods_venues_sorted = pd.DataFrame(columns=columns)
neighborhoods_venues_sorted['Neighborhood'] = t_grouped['Neighborhood']

for ind in np.arange(t_grouped.shape[0]):
    neighborhoods_venues_sorted.iloc[ind, 1:] = return_most_common_venues(t_grouped.iloc[ind, :], num_top_venues)

neighborhoods_venues_sorted.head()
# %% markdown
# ## Part IV Cluster Neighborhoods
# %% markdown
# ### 1. Use k-means to cluster the neighborhood into 5 clusters.
# %% codecell
# set number of clusters
kclusters = 5

t_grouped_clustering = t_grouped.drop('Neighborhood', 1)

# run k-means clustering
kmeans = KMeans(n_clusters=kclusters, random_state=0).fit(t_grouped_clustering)

# check cluster labels generated for each row in the dataframe
kmeans.labels_[0:10]
# %% markdown
# ### 2. Create a new dataframe that includes the cluster as well as the top 10 venues for each neighborhood.
# %% codecell
# add clustering labels
neighborhoods_venues_sorted.insert(0, 'Cluster Labels', kmeans.labels_)

t_merged = toronto

# merge toronto_grouped with toronto_data to add latitude/longitude for each neighborhood
t_merged = t_merged.join(neighborhoods_venues_sorted.set_index('Neighborhood'), on='Neighborhood')

t_merged.head() #
# %% markdown
# ### 3. Create a map for clusters.
# %% codecell
# create map
map_clusters = folium.Map(location=[latitude, longitude], zoom_start=11)

# set color scheme for the clusters
x = np.arange(kclusters)
ys = [i + x + (i*x)**2 for i in range(kclusters)]
colors_array = cm.rainbow(np.linspace(0, 1, len(ys)))
rainbow = [colors.rgb2hex(i) for i in colors_array]

# add markers to the map
markers_colors = []
for lat, lon, poi, cluster in zip(t_merged['Latitude'], t_merged['Longitude'], t_merged['Neighborhood'], t_merged['Cluster Labels']):
    label = folium.Popup(str(poi) + ' Cluster ' + str(cluster), parse_html=True)
    folium.CircleMarker(
        [lat, lon],
        radius=5,
        popup=label,
        color=rainbow[cluster-1],
        fill=True,
        fill_color=rainbow[cluster-1],
        fill_opacity=0.7).add_to(map_clusters)

map_clusters
# %% markdown
# ### 4. Examine Clusters.
# %% markdown
# #### Cluster 0
# %% codecell
t_merged.loc[t_merged['Cluster Labels'] == 0, t_merged.columns[[2] + list(range(5, t_merged.shape[1]))]]
# %% markdown
# #### Cluster 1
# %% codecell
t_merged.loc[t_merged['Cluster Labels'] == 1, t_merged.columns[[2] + list(range(5, t_merged.shape[1]))]]
# %% markdown
# #### Cluster 2
# %% codecell
t_merged.loc[t_merged['Cluster Labels'] == 2, t_merged.columns[[2] + list(range(5, t_merged.shape[1]))]]
# %% markdown
# #### Cluster 3
# %% codecell
t_merged.loc[t_merged['Cluster Labels'] == 3, t_merged.columns[[2] + list(range(5, t_merged.shape[1]))]]
# %% markdown
# #### Cluster 4
# %% codecell
t_merged.loc[t_merged['Cluster Labels'] == 4, t_merged.columns[[2] + list(range(5, t_merged.shape[1]))]]
# %% markdown
# This concludes the notebook. Thank you!
# %% codecell
